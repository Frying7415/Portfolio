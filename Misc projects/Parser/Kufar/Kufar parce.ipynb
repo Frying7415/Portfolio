{
 "cells": [
  {
   "cell_type": "markdown",
   "id": "cf2003d1-0133-4b77-86be-f0f669e71b7e",
   "metadata": {},
   "source": [
    "https://re.kufar.by/l/minsk/snyat/kommercheskaya/ofisy?cur=USD&prc=r%3A0%2C20&size=30"
   ]
  },
  {
   "cell_type": "code",
   "execution_count": 12,
   "id": "c0ae68c0-2e8e-4872-8fcc-ff71e31fda5b",
   "metadata": {},
   "outputs": [],
   "source": [
    "import requests as rq\n",
    "import json"
   ]
  },
  {
   "cell_type": "code",
   "execution_count": 13,
   "id": "b29026d9-e861-448c-8e09-8556ebf91b66",
   "metadata": {},
   "outputs": [],
   "source": [
    "headers = {\n",
    "    \"user-agent\": \"Mozilla/5.0 (Windows NT 10.0; Win64; x64) AppleWebKit/537.36 (KHTML, like Gecko) Chrome/103.0.0.0 Safari/537.36\"\n",
    "    ,\"accept\": \"text/html,application/xhtml+xml,application/xml;q=0.9,image/avif,image/webp,image/apng,*/*;q=0.8,application/signed-exchange;v=b3;q=0.9\"\n",
    "}"
   ]
  },
  {
   "cell_type": "code",
   "execution_count": 14,
   "id": "3ea2d7bf-7406-41b6-9304-23ad893c95e6",
   "metadata": {},
   "outputs": [],
   "source": [
    "def get_page(url):\n",
    "    s = rq.Session()\n",
    "    response = s.get(url=url, headers=headers)\n",
    "    \n",
    "    with open(\"index.html\", \"w\", encoding=\"utf-8\") as file:\n",
    "        file.write(response.text)"
   ]
  },
  {
   "cell_type": "code",
   "execution_count": 15,
   "id": "320d3d49-0d1b-4dca-92ce-87c36653dad8",
   "metadata": {},
   "outputs": [],
   "source": [
    "def get_json(url):\n",
    "    s = rq.Session()\n",
    "    response = s.get(url=url, headers=headers)\n",
    "    \n",
    "    with open(\"result.json\", \"w\", encoding=\"utf-8\") as file:\n",
    "        json.dump(response.json(), file, indent=4, ensure_ascii=False)"
   ]
  },
  {
   "cell_type": "code",
   "execution_count": 23,
   "id": "9a00336a-380e-4867-8a60-c6e28673cb5e",
   "metadata": {},
   "outputs": [],
   "source": [
    "def collect_data():\n",
    "    s = rq.Session()\n",
    "    response = s.get(url=\"https://cre-api-v2.kufar.by/items-search/v1/engine/v1/search/rendered-paginated?cat=1050&cur=USD&gtsy=country-belarus~province-minsk~locality-minsk&lang=ru&prc=r%3A0%2C20&prt=1&size=30&typ=let\", headers=headers)\n",
    "    data = response.json()\n",
    "    page_count = len(data.get(\"pagination\").get(\"pages\"))\n",
    "    \n",
    "    result_data = []\n",
    "    for page in range(1, page_count + 1):\n",
    "        "
   ]
  },
  {
   "cell_type": "code",
   "execution_count": 17,
   "id": "a426db99-7840-4b82-b6b9-6bcf4d0413a6",
   "metadata": {},
   "outputs": [],
   "source": [
    "def main():\n",
    "    #get_page(url=\"https://re.kufar.by/l/minsk/snyat/kommercheskaya/ofisy?cur=USD&prc=r%3A0%2C20&size=30\")\n",
    "    #get_json(url=\"https://cre-api-v2.kufar.by/items-search/v1/engine/v1/search/rendered-paginated?cat=1050&cur=USD&gtsy=country-belarus~province-minsk~locality-minsk&lang=ru&prc=r%3A0%2C20&prt=1&size=30&typ=let\")\n",
    "    collect_data()"
   ]
  },
  {
   "cell_type": "code",
   "execution_count": 24,
   "id": "6746021b-df4a-4eed-b261-2afa7d474099",
   "metadata": {},
   "outputs": [
    {
     "name": "stdout",
     "output_type": "stream",
     "text": [
      "3\n"
     ]
    }
   ],
   "source": [
    "if __name__ == \"__main__\":\n",
    "    main()"
   ]
  }
 ],
 "metadata": {
  "kernelspec": {
   "display_name": "Python 3 (ipykernel)",
   "language": "python",
   "name": "python3"
  },
  "language_info": {
   "codemirror_mode": {
    "name": "ipython",
    "version": 3
   },
   "file_extension": ".py",
   "mimetype": "text/x-python",
   "name": "python",
   "nbconvert_exporter": "python",
   "pygments_lexer": "ipython3",
   "version": "3.10.4"
  }
 },
 "nbformat": 4,
 "nbformat_minor": 5
}
