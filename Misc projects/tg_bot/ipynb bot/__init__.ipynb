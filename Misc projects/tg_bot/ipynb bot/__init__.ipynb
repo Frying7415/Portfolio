{
 "cells": [
  {
   "cell_type": "code",
   "execution_count": 1,
   "id": "87f8198d-790a-4abc-b261-cea0cc062497",
   "metadata": {},
   "outputs": [],
   "source": [
    "from telethon import TelegramClient, events\n",
    "import telethon.sync, mail_body\n",
    "api_id = 14902332\n",
    "api_hash = 'bf0de7c021b7699a1dd34d96ff62526c'\n",
    "bot_token = '5582046997:AAGdkSrrxEuaZiuqY9FIsPWLxyMOGGDYUcU'"
   ]
  },
  {
   "cell_type": "code",
   "execution_count": 2,
   "id": "1dd06254-285a-4076-9f3f-068049fc9945",
   "metadata": {},
   "outputs": [],
   "source": [
    "client = TelegramClient('bot', api_id, api_hash)"
   ]
  },
  {
   "cell_type": "markdown",
   "id": "2bfbe936-8f7a-4f21-a93c-53280b41d64d",
   "metadata": {},
   "source": [
    "Will ask for a bot token"
   ]
  },
  {
   "cell_type": "code",
   "execution_count": 11,
   "id": "cc4bbf82-1e86-4097-b10d-a8818281162a",
   "metadata": {},
   "outputs": [
    {
     "data": {
      "text/plain": [
       "<telethon.client.telegramclient.TelegramClient at 0x251cea485b0>"
      ]
     },
     "execution_count": 11,
     "metadata": {},
     "output_type": "execute_result"
    }
   ],
   "source": [
    "await client.start(bot_token=bot_token)"
   ]
  },
  {
   "cell_type": "code",
   "execution_count": 88,
   "id": "9481b7d8-762f-425c-b54c-11c5e71c41d2",
   "metadata": {
    "collapsed": true,
    "jupyter": {
     "outputs_hidden": true,
     "source_hidden": true
    },
    "tags": []
   },
   "outputs": [
    {
     "data": {
      "text/plain": [
       "<telethon.tl.patched.Message at 0x1f5733196d0>"
      ]
     },
     "execution_count": 88,
     "metadata": {},
     "output_type": "execute_result"
    }
   ],
   "source": [
    "await client.send_message(-648012780, \"asd\")"
   ]
  },
  {
   "cell_type": "code",
   "execution_count": 3,
   "id": "37bbe152-6e1e-4a10-8f4f-bb1529e0f68a",
   "metadata": {
    "tags": []
   },
   "outputs": [],
   "source": [
    "@client.on(events.NewMessage(chats=-742161990))\n",
    "async def my_event_handler(event):\n",
    "    if 'Привет' in event.raw_text:\n",
    "        await event.respond('Привет! Чтобы получить цитату, напиши \"Дай цитату\". Больше я нихрена не умею')\n",
    "    elif 'дай цитату' in event.raw_text.lower():\n",
    "        await event.reply('Уже выбираю подходящую...')\n",
    "        await client.send_message(-742161990, mail_body.random_text())\n",
    "    elif 'дай ещё' in event.raw_text.lower():\n",
    "        await event.reply('Вот, держи:')\n",
    "        await client.send_message(-742161990, mail_body.random_text())"
   ]
  },
  {
   "cell_type": "code",
   "execution_count": 4,
   "id": "a71f7d1b-3bad-4d37-9b6e-b1839d656376",
   "metadata": {},
   "outputs": [
    {
     "data": {
      "text/plain": [
       "<coroutine object UpdateMethods._run_until_disconnected at 0x000001A6239FDA10>"
      ]
     },
     "execution_count": 4,
     "metadata": {},
     "output_type": "execute_result"
    }
   ],
   "source": [
    "await client.connect()\n",
    "client.run_until_disconnected()"
   ]
  },
  {
   "cell_type": "code",
   "execution_count": 5,
   "id": "99cd5479-abc3-42f1-846a-b0a8bb180e77",
   "metadata": {},
   "outputs": [],
   "source": [
    "await client.disconnect()"
   ]
  },
  {
   "cell_type": "code",
   "execution_count": 12,
   "id": "e54eab05-f8e7-4bbb-80fd-98237d31b98b",
   "metadata": {},
   "outputs": [
    {
     "name": "stdout",
     "output_type": "stream",
     "text": [
      "['test']\n"
     ]
    }
   ],
   "source": [
    "print(client.session.list_sessions())"
   ]
  }
 ],
 "metadata": {
  "kernelspec": {
   "display_name": "Python 3 (ipykernel)",
   "language": "python",
   "name": "python3"
  },
  "language_info": {
   "codemirror_mode": {
    "name": "ipython",
    "version": 3
   },
   "file_extension": ".py",
   "mimetype": "text/x-python",
   "name": "python",
   "nbconvert_exporter": "python",
   "pygments_lexer": "ipython3",
   "version": "3.10.4"
  }
 },
 "nbformat": 4,
 "nbformat_minor": 5
}
